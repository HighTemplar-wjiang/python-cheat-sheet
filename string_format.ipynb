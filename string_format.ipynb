{
 "cells": [
  {
   "cell_type": "code",
   "execution_count": 103,
   "metadata": {},
   "outputs": [
    {
     "name": "stdout",
     "output_type": "stream",
     "text": [
      "The 'Data' class has a printable representation attribute 'repr' and a string representation 'str'.\n",
      "It was created on 2018-01-26 18:36,\n",
      "that day was a cold day with lowest temperature at --4 Celsius degree.\n",
      "\n",
      "By default, it has a float property 'pi=3.141592653589793',\n",
      "you can tuncate it: +03.14,\n",
      "or pad it to the \n",
      "\t right:    $$$$$$$$$$$$$$$$$$3.1415926536\n",
      "\t left:     3.1415926536$$$$$$$$$$$$$$$$$$\n",
      "\t center:   $$$$$$$$$3.1415926536$$$$$$$$$\n",
      "\n",
      "Don't try getting the confidential data without the right password.\n",
      "If you have no password, you can only get 'WTF?',\n",
      "if you have the wrong one, you will be told 'No way!!!'.\n",
      "But if you do, you will get what you want: 'Bitcoin wallet private key: 9yyf98shaGIUHFUDIHfsy4234nji'.\n",
      "\n",
      "\n"
     ]
    }
   ],
   "source": [
    "# A general python3 format example.\n",
    "# https://pyformat.info/\n",
    "\n",
    "from datetime import datetime\n",
    "\n",
    "class Data(object):\n",
    "    \n",
    "    def __init__(self):\n",
    "        self.pi = 3.141592653589793\n",
    "        self.date = datetime(2018, 1, 26, 18, 36)\n",
    "        self.temperature = [{\"high\": 5, \"low\":-4}]\n",
    "    \n",
    "    def __str__(self):\n",
    "        return \"str\"\n",
    "    \n",
    "    def __repr__(self):\n",
    "        return \"repr\"\n",
    "    \n",
    "    def __format__(self, format):\n",
    "        if (format == \"give-me-the-data\"):\n",
    "            return \"No way!!!\"\n",
    "        elif (format == \"I-know-the-password\"):\n",
    "            return \"Bitcoin wallet private key: 9yyf98shaGIUHFUDIHfsy4234nji\"\n",
    "        else:\n",
    "            return \"WTF?\"\n",
    "    \n",
    "formatted_string = (\"The '{classname}' class has a printable representation attribute '{0!r}'\"\n",
    "                    \" and a string representation '{0!s}'.\\n\"\n",
    "                    \"It was created on {p.date:{datetime_format}},\\n\"\n",
    "                    \"that day was a cold day with lowest temperature at {p.temperature[0][low]:-=3d} Celsius degree.\\n\\n\"\n",
    "                    \"By default, it has a float property 'pi={p.pi}',\\n\"\n",
    "                    \"you can tuncate it: {p.pi:+06.2f},\\n\"\n",
    "                    \"or pad it to the \\n\\t {2: <10}{p.pi:$>30.10f}\\n\"\n",
    "                    \"\\t {1: <10}{p.pi:$<30.10f}\\n\"\n",
    "                    \"\\t {3: <10}{p.pi:$^30.10f}\\n\\n\"\n",
    "                    \"Don't try getting the confidential data without the right password.\\n\"\n",
    "                    \"If you have no password, you can only get '{p}',\\n\"\n",
    "                    \"if you have the wrong one, you will be told '{p:give-me-the-data}'.\\n\"\n",
    "                    \"But if you do, you will get what you want: '{p:{password}}'.\\n\\n\").format(\n",
    "                        Data(), \n",
    "                        \"left:\", \"right:\", \"center:\",\n",
    "                        classname=Data.__name__,\n",
    "                        p=Data(), \n",
    "                        datetime_format=\"%Y-%m-%d %H:%M\",\n",
    "                        password=\"I-know-the-password\")\n",
    "print(formatted_string)"
   ]
  },
  {
   "cell_type": "code",
   "execution_count": null,
   "metadata": {},
   "outputs": [],
   "source": []
  },
  {
   "cell_type": "code",
   "execution_count": null,
   "metadata": {},
   "outputs": [],
   "source": []
  }
 ],
 "metadata": {
  "kernelspec": {
   "display_name": "Python 3",
   "language": "python",
   "name": "python3"
  },
  "language_info": {
   "codemirror_mode": {
    "name": "ipython",
    "version": 3
   },
   "file_extension": ".py",
   "mimetype": "text/x-python",
   "name": "python",
   "nbconvert_exporter": "python",
   "pygments_lexer": "ipython3",
   "version": "3.5.2"
  }
 },
 "nbformat": 4,
 "nbformat_minor": 2
}
